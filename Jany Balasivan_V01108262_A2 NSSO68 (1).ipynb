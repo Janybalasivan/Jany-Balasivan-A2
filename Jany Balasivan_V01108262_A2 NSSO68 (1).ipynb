{
 "cells": [
  {
   "cell_type": "code",
   "execution_count": 58,
   "id": "b562de60",
   "metadata": {},
   "outputs": [],
   "source": [
    "import pandas as pd\n",
    "import numpy as np\n",
    "import statsmodels.api as sm\n",
    "from statsmodels.stats.outliers_influence import variance_inflation_factor"
   ]
  },
  {
   "cell_type": "code",
   "execution_count": 59,
   "id": "0cb9dabd",
   "metadata": {},
   "outputs": [],
   "source": [
    "import os\n",
    "os.chdir('/Users/janybalashiva/Downloads')"
   ]
  },
  {
   "cell_type": "code",
   "execution_count": 60,
   "id": "60c136cc",
   "metadata": {},
   "outputs": [
    {
     "name": "stderr",
     "output_type": "stream",
     "text": [
      "/var/folders/z6/lcxc0qg53jdc_26yqxr8f60c0000gn/T/ipykernel_69251/4031375496.py:1: DtypeWarning: Columns (1) have mixed types. Specify dtype option on import or set low_memory=False.\n",
      "  data = pd.read_csv(\"NSSO68.csv\")\n"
     ]
    }
   ],
   "source": [
    "data = pd.read_csv(\"NSSO68.csv\")"
   ]
  },
  {
   "cell_type": "code",
   "execution_count": 61,
   "id": "7cc94c60",
   "metadata": {},
   "outputs": [
    {
     "data": {
      "text/plain": [
       "array(['GUJ', 'ORI', 'CHTSD', 'MP', 'JRKD', 'WB', 'AP', 'MH', 'D&D',\n",
       "       'D&NH', 'MIZ', 'TRPR', 'MANPR', 'ASSM', 'MEG', 'NAG', 'A&N',\n",
       "       'PNDCRY', 'TN', 'GOA', 'KA', 'KE', 'LKSDP', 'SKM', 'Bhr', 'UP',\n",
       "       'RJ', 'ARP', 'DL', 'HR', 'Pun', 'HP', 'UT', 'Chandr', 'J$K'],\n",
       "      dtype=object)"
      ]
     },
     "execution_count": 61,
     "metadata": {},
     "output_type": "execute_result"
    }
   ],
   "source": [
    "data['state_1'].unique()"
   ]
  },
  {
   "cell_type": "code",
   "execution_count": 62,
   "id": "a4fc8bcd",
   "metadata": {},
   "outputs": [
    {
     "name": "stdout",
     "output_type": "stream",
     "text": [
      "       foodtotal_q  MPCE_MRP  MPCE_URP  Age  Meals_At_Home  \\\n",
      "741      33.110413   3844.95   3455.50   31           60.0   \n",
      "742      31.683645   2377.28   2572.67   42           60.0   \n",
      "743      25.575244   2039.86   1792.75   53           60.0   \n",
      "744      24.920166    970.04    880.00   60           60.0   \n",
      "745      24.742780    935.56    854.50   35           90.0   \n",
      "...            ...       ...       ...  ...            ...   \n",
      "87695    27.500300    966.50    926.00   61           90.0   \n",
      "87696    39.626475   5022.53   1859.83   72           60.0   \n",
      "87697    20.333953   2050.26   2006.33   30           80.0   \n",
      "87698    26.916975   1176.12   1422.17   48           90.0   \n",
      "87699    26.933683    715.75    634.33   55           90.0   \n",
      "\n",
      "       Possess_ration_card  Education  No_of_Meals_per_day  \n",
      "741                    2.0       12.0                  2.0  \n",
      "742                    1.0       12.0                  2.0  \n",
      "743                    1.0       10.0                  2.0  \n",
      "744                    1.0        5.0                  2.0  \n",
      "745                    1.0        7.0                  3.0  \n",
      "...                    ...        ...                  ...  \n",
      "87695                  1.0        5.0                  3.0  \n",
      "87696                  1.0        5.0                  2.0  \n",
      "87697                  2.0       10.0                  3.0  \n",
      "87698                  2.0        1.0                  3.0  \n",
      "87699                  2.0        6.0                  3.0  \n",
      "\n",
      "[4026 rows x 8 columns]\n"
     ]
    }
   ],
   "source": [
    "#Subsetting the data\n",
    "subset_data = data[data['state_1'] == 'ORI'][['foodtotal_q', 'MPCE_MRP', 'MPCE_URP', 'Age', 'Meals_At_Home', 'Possess_ration_card', 'Education', 'No_of_Meals_per_day']]\n",
    "print(subset_data)"
   ]
  },
  {
   "cell_type": "code",
   "execution_count": 63,
   "id": "e05c961c",
   "metadata": {},
   "outputs": [
    {
     "name": "stdout",
     "output_type": "stream",
     "text": [
      "0\n",
      "0\n",
      "0\n",
      "0\n",
      "7\n"
     ]
    }
   ],
   "source": [
    "#Checking for missing values\n",
    "print(subset_data['MPCE_MRP'].isna().sum())\n",
    "print(subset_data['MPCE_URP'].isna().sum())\n",
    "print(subset_data['Age'].isna().sum())\n",
    "print(subset_data['Possess_ration_card'].isna().sum())\n",
    "print(data['Education'].isna().sum())"
   ]
  },
  {
   "cell_type": "code",
   "execution_count": 64,
   "id": "39f6459f",
   "metadata": {},
   "outputs": [],
   "source": [
    "#Creating a function to impute th emissing values with the mean of the variable\n",
    "def impute_with_mean(data, columns):\n",
    "    for column in columns:\n",
    "        data[column].fillna(data[column].mean(), inplace=True)\n",
    "    return data"
   ]
  },
  {
   "cell_type": "code",
   "execution_count": 65,
   "id": "f86c302a",
   "metadata": {},
   "outputs": [],
   "source": [
    "#Imputiong the columns\n",
    "columns_to_impute = ['Education', 'MPCE_MRP', 'MPCE_URP', 'Age', 'Meals_At_Home', 'Possess_ration_card', 'foodtotal_q']"
   ]
  },
  {
   "cell_type": "code",
   "execution_count": 66,
   "id": "a24942a4",
   "metadata": {},
   "outputs": [],
   "source": [
    "subset_data = impute_with_mean(subset_data, columns_to_impute)"
   ]
  },
  {
   "cell_type": "code",
   "execution_count": 67,
   "id": "13f47a58",
   "metadata": {},
   "outputs": [
    {
     "name": "stdout",
     "output_type": "stream",
     "text": [
      "foodtotal_q            0\n",
      "MPCE_MRP               0\n",
      "MPCE_URP               0\n",
      "Age                    0\n",
      "Meals_At_Home          0\n",
      "Possess_ration_card    0\n",
      "Education              0\n",
      "No_of_Meals_per_day    2\n",
      "dtype: int64\n"
     ]
    }
   ],
   "source": [
    "print(subset_data.isna().sum()) "
   ]
  },
  {
   "cell_type": "code",
   "execution_count": 68,
   "id": "c23b35d8",
   "metadata": {},
   "outputs": [],
   "source": [
    "#Fitting the regression model\n",
    "X = subset_data[['MPCE_MRP', 'MPCE_URP', 'Age', 'Meals_At_Home', 'Possess_ration_card', 'Education']]\n",
    "X = sm.add_constant(X)  # Adds a constant term to the predictor\n",
    "y = subset_data['foodtotal_q']\n"
   ]
  },
  {
   "cell_type": "code",
   "execution_count": 69,
   "id": "53dc6fda",
   "metadata": {},
   "outputs": [],
   "source": [
    "model = sm.OLS(y, X).fit()"
   ]
  },
  {
   "cell_type": "code",
   "execution_count": 70,
   "id": "cfb699f3",
   "metadata": {},
   "outputs": [
    {
     "name": "stdout",
     "output_type": "stream",
     "text": [
      "                            OLS Regression Results                            \n",
      "==============================================================================\n",
      "Dep. Variable:            foodtotal_q   R-squared:                       0.233\n",
      "Model:                            OLS   Adj. R-squared:                  0.232\n",
      "Method:                 Least Squares   F-statistic:                     203.9\n",
      "Date:                Sun, 23 Jun 2024   Prob (F-statistic):          1.21e-227\n",
      "Time:                        22:33:43   Log-Likelihood:                -13277.\n",
      "No. Observations:                4026   AIC:                         2.657e+04\n",
      "Df Residuals:                    4019   BIC:                         2.661e+04\n",
      "Df Model:                           6                                         \n",
      "Covariance Type:            nonrobust                                         \n",
      "=======================================================================================\n",
      "                          coef    std err          t      P>|t|      [0.025      0.975]\n",
      "---------------------------------------------------------------------------------------\n",
      "const                   7.9462      0.805      9.875      0.000       6.369       9.524\n",
      "MPCE_MRP                0.0021      0.000     12.966      0.000       0.002       0.002\n",
      "MPCE_URP                0.0009      0.000      6.005      0.000       0.001       0.001\n",
      "Age                     0.1072      0.008     13.288      0.000       0.091       0.123\n",
      "Meals_At_Home           0.0906      0.007     13.570      0.000       0.077       0.104\n",
      "Possess_ration_card    -0.8528      0.228     -3.742      0.000      -1.300      -0.406\n",
      "Education               0.1314      0.034      3.829      0.000       0.064       0.199\n",
      "==============================================================================\n",
      "Omnibus:                      524.536   Durbin-Watson:                   1.459\n",
      "Prob(Omnibus):                  0.000   Jarque-Bera (JB):             6194.880\n",
      "Skew:                          -0.098   Prob(JB):                         0.00\n",
      "Kurtosis:                       9.074   Cond. No.                     1.90e+04\n",
      "==============================================================================\n",
      "\n",
      "Notes:\n",
      "[1] Standard Errors assume that the covariance matrix of the errors is correctly specified.\n",
      "[2] The condition number is large, 1.9e+04. This might indicate that there are\n",
      "strong multicollinearity or other numerical problems.\n"
     ]
    }
   ],
   "source": [
    "#Printinf the regression results\n",
    "print(model.summary())"
   ]
  },
  {
   "cell_type": "code",
   "execution_count": 71,
   "id": "f852d1d6",
   "metadata": {},
   "outputs": [],
   "source": [
    "#Checking for multicollinearity using Inflator Factor (VIF)\n",
    "vif_data = pd.DataFrame()\n",
    "vif_data['feature'] = X.columns\n",
    "vif_data['VIF'] = [variance_inflation_factor(X.values, i) for i in range(X.shape[1])]\n"
   ]
  },
  {
   "cell_type": "code",
   "execution_count": 72,
   "id": "e39dd8a7",
   "metadata": {},
   "outputs": [
    {
     "name": "stdout",
     "output_type": "stream",
     "text": [
      "               feature        VIF\n",
      "0                const  60.722903\n",
      "1             MPCE_MRP   3.070729\n",
      "2             MPCE_URP   2.991975\n",
      "3                  Age   1.073295\n",
      "4        Meals_At_Home   1.122845\n",
      "5  Possess_ration_card   1.157489\n",
      "6            Education   1.338419\n"
     ]
    }
   ],
   "source": [
    "print(vif_data)"
   ]
  },
  {
   "cell_type": "code",
   "execution_count": 73,
   "id": "f37e26fd",
   "metadata": {},
   "outputs": [],
   "source": [
    "#Extracting the coefficients from the model\n",
    "coefficients = model.params"
   ]
  },
  {
   "cell_type": "code",
   "execution_count": 74,
   "id": "1e11b84d",
   "metadata": {},
   "outputs": [
    {
     "name": "stdout",
     "output_type": "stream",
     "text": [
      "y = 7.95 + 0.002054*x1 + 0.000921*x2 + 0.107187*x3 + 0.090582*x4 + -0.852766*x5 + 0.131429*x6\n"
     ]
    }
   ],
   "source": [
    "#Constructing the equation\n",
    "equation = f\"y = {coefficients[0]:.2f}\"\n",
    "for i in range(1, len(coefficients)):\n",
    "    equation += f\" + {coefficients[i]:.6f}*x{i}\"\n",
    "print(equation)\n"
   ]
  },
  {
   "cell_type": "code",
   "execution_count": null,
   "id": "c12576f5",
   "metadata": {},
   "outputs": [],
   "source": []
  }
 ],
 "metadata": {
  "kernelspec": {
   "display_name": "Python 3 (ipykernel)",
   "language": "python",
   "name": "python3"
  },
  "language_info": {
   "codemirror_mode": {
    "name": "ipython",
    "version": 3
   },
   "file_extension": ".py",
   "mimetype": "text/x-python",
   "name": "python",
   "nbconvert_exporter": "python",
   "pygments_lexer": "ipython3",
   "version": "3.11.5"
  }
 },
 "nbformat": 4,
 "nbformat_minor": 5
}
